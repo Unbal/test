{
 "cells": [
  {
   "cell_type": "code",
   "execution_count": 1,
   "metadata": {},
   "outputs": [
    {
     "name": "stdout",
     "output_type": "stream",
     "text": [
      "50.665958\n",
      "93.480888\n"
     ]
    }
   ],
   "source": [
    "import torch\n",
    "import torch.nn as nn\n",
    "import torch.nn.functional as Funct\n",
    "import sys\n",
    "import segData\n",
    "from PIL import Image\n",
    "from torchvision.transforms import ToPILImage\n",
    "import torchvision.transforms as t\n",
    "\n",
    "from segmentation import Unet\n",
    "from segmentation import ConvBlock\n",
    "from segmentation import Get_Sample\n",
    "from segmentation import Up_Block\n",
    "\n",
    "import torch.optim as optim\n",
    "from torch.autograd import Variable\n",
    "from torch.utils.data import DataLoader\n",
    "import numpy as np\n",
    "\n",
    "import os\n",
    "os.environ[\"CUDA_DEVICE_ORDER\"]=\"PCI_BUS_ID\"   \n",
    "os.environ[\"CUDA_VISIBLE_DEVICES\"]=\"2,3\"\n",
    "\n",
    "def iou_r(outputs, label):\n",
    "    outputs = (outputs > 0.5).cpu().type(torch.cuda.FloatTensor)\n",
    "    label = label\n",
    "    intersection = (outputs * label).type(torch.cuda.FloatTensor)\n",
    "    ex = 0\n",
    "    result = []\n",
    "    for i in range(batch_size):\n",
    "        k = torch.sum(label[i][0])\n",
    "        ret = (torch.sum(intersection[i][0])/(torch.sum(outputs[i][0])+k-torch.sum(intersection[i][0]) + 1e-7))\n",
    "        result.append(ret.data)\n",
    "        \n",
    "    ret = sum(result)\n",
    "    return ret\n",
    "\n",
    "def iou_b(outputs, label):\n",
    "    outputs = (outputs < 0.5).cpu().type(torch.cuda.FloatTensor)\n",
    "    label = (label == 0).type(torch.cuda.FloatTensor)\n",
    "    intersection = (outputs * label).type(torch.cuda.FloatTensor)\n",
    "\n",
    "    result = []\n",
    "    for i in range(batch_size):\n",
    "        ret = (torch.sum(intersection[i][0])/(torch.sum(outputs[i][0])+torch.sum(label[i][0])-torch.sum(intersection[i][0]) + 1e-7))\n",
    "        result.append(ret.data)\n",
    "    \n",
    "    ret = sum(result)\n",
    "    return ret\n",
    "\n",
    "if __name__ == \"__main__\":\n",
    "    torch.cuda.init()\n",
    "    batch_size = 4\n",
    "    test_dataset = segData.DataS(\"val\")\n",
    "    test_loader = DataLoader(test_dataset, batch_size=batch_size, shuffle=False, num_workers=8)   \n",
    "    model = torch.load('5_epoch_model.pt')\n",
    "    #model = torch.nn.DataParallel(model)\n",
    "    \n",
    "    result = 0.0\n",
    "    result2 = 0.0\n",
    "    result3 = 0.0\n",
    "    #result4 = 0.0\n",
    "    ex_r = 0\n",
    "    for img, label in test_loader:\n",
    "        img = Variable(img.cuda())\n",
    "        label = label.type(torch.cuda.FloatTensor)\n",
    "        output = model(img)\n",
    "        mi = iou_r(output, label)        \n",
    "        mi2 = iou_b(output, label)\n",
    "        \n",
    "        result += mi\n",
    "        result2 += mi2\n",
    "        \n",
    "        torch.cuda.empty_cache()\n",
    "        \n",
    "    result /= (len(test_dataset))\n",
    "    result2 /= (len(test_dataset))\n",
    "    print('%f'%((result.data*100)))\n",
    "    print('%f'%((result2.data*100)))"
   ]
  },
  {
   "cell_type": "code",
   "execution_count": null,
   "metadata": {
    "collapsed": true
   },
   "outputs": [],
   "source": []
  }
 ],
 "metadata": {
  "kernelspec": {
   "display_name": "Python [conda env:pytorch]",
   "language": "python",
   "name": "conda-env-pytorch-py"
  },
  "language_info": {
   "codemirror_mode": {
    "name": "ipython",
    "version": 3
   },
   "file_extension": ".py",
   "mimetype": "text/x-python",
   "name": "python",
   "nbconvert_exporter": "python",
   "pygments_lexer": "ipython3",
   "version": "3.6.6"
  }
 },
 "nbformat": 4,
 "nbformat_minor": 2
}
